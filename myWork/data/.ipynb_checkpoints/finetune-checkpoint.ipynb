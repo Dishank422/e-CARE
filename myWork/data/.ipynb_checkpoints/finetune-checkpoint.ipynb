{
 "cells": [
  {
   "cell_type": "code",
   "execution_count": 1,
   "id": "11f383f2",
   "metadata": {},
   "outputs": [],
   "source": [
    "import jsonlines\n",
    "split = \"train\"\n",
    "source_file = open(\"finetune/\" + split + \".source\", \"w\")\n",
    "target_file = open(\"finetune/\" + split + \".target\", \"w\")\n",
    "with jsonlines.open(split+'.jsonl') as f:\n",
    "    for line in f.iter():\n",
    "        source_file.write(line[\"cause\"]+\" \"+line[\"effect\"]+\"\\n\")\n",
    "        target_file.write(line[\"conceptual_explanation\"]+\"\\n\")\n",
    "source_file.close()\n",
    "target_file.close()"
   ]
  },
  {
   "cell_type": "code",
   "execution_count": 2,
   "id": "120d1d5e",
   "metadata": {},
   "outputs": [],
   "source": [
    "import jsonlines\n",
    "split = \"val\"\n",
    "source_file = open(\"finetune/\" + split + \".source\", \"w\")\n",
    "target_file = open(\"finetune/\" + split + \".target\", \"w\")\n",
    "with jsonlines.open('dev.jsonl') as f:\n",
    "    for line in f.iter():\n",
    "        source_file.write(line[\"cause\"]+\" \"+line[\"effect\"]+\"\\n\")\n",
    "        target_file.write(line[\"conceptual_explanation\"]+\"\\n\")\n",
    "source_file.close()\n",
    "target_file.close()"
   ]
  },
  {
   "cell_type": "code",
   "execution_count": 1,
   "id": "9d1addbf",
   "metadata": {},
   "outputs": [],
   "source": [
    "with open(\"predictions\", \"r\") as f:\n",
    "    data = f.readlines()\n",
    "final = {}\n",
    "for i, text in enumerate(data):\n",
    "    final[\"dev-\"+str(i)] = text.strip()\n",
    "import json\n",
    "with open(\"rag.json\", \"w\") as f:\n",
    "    json.dump(final, f)"
   ]
  }
 ],
 "metadata": {
  "kernelspec": {
   "display_name": "Python 3 (ipykernel)",
   "language": "python",
   "name": "python3"
  },
  "language_info": {
   "codemirror_mode": {
    "name": "ipython",
    "version": 3
   },
   "file_extension": ".py",
   "mimetype": "text/x-python",
   "name": "python",
   "nbconvert_exporter": "python",
   "pygments_lexer": "ipython3",
   "version": "3.10.6"
  }
 },
 "nbformat": 4,
 "nbformat_minor": 5
}
