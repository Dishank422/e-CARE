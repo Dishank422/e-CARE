{
 "cells": [
  {
   "cell_type": "code",
   "execution_count": 1,
   "id": "550d3b74",
   "metadata": {},
   "outputs": [],
   "source": [
    "import jsonlines\n",
    "import pandas as pd\n",
    "import json"
   ]
  },
  {
   "cell_type": "code",
   "execution_count": 2,
   "id": "3bfe2732",
   "metadata": {},
   "outputs": [],
   "source": [
    "cause = []\n",
    "effect = []\n",
    "with jsonlines.open('dev.jsonl') as f:\n",
    "    for line in f.iter():\n",
    "        cause.append(line[\"cause\"])\n",
    "        effect.append(line[\"effect\"])"
   ]
  },
  {
   "cell_type": "code",
   "execution_count": 3,
   "id": "66699926",
   "metadata": {},
   "outputs": [],
   "source": [
    "explanation = []\n",
    "with open(\"davinci_prediction.json\", \"r\") as f:\n",
    "    data = json.load(f)\n",
    "    \n",
    "for i in range(2132):\n",
    "    explanation.append(data[\"dev-\"+str(i)])"
   ]
  },
  {
   "cell_type": "code",
   "execution_count": 5,
   "id": "5ae257c7",
   "metadata": {},
   "outputs": [],
   "source": [
    "dataframe = pd.DataFrame({\"cause\": cause, \"effect\":effect, \"explanation\":explanation})\n",
    "dataframe.to_csv(\"Davinci-CEQ-eval.csv\")"
   ]
  },
  {
   "cell_type": "code",
   "execution_count": 3,
   "id": "20d9eefe",
   "metadata": {},
   "outputs": [],
   "source": [
    "explanation = []\n",
    "with open(\"chatgpt_prediction.json\", \"r\") as f:\n",
    "    data = json.load(f)\n",
    "    \n",
    "for i in range(2132):\n",
    "    explanation.append(data[\"dev-\"+str(i)])"
   ]
  },
  {
   "cell_type": "code",
   "execution_count": 4,
   "id": "668afbe9",
   "metadata": {},
   "outputs": [],
   "source": [
    "dataframe = pd.DataFrame({\"cause\": cause, \"effect\":effect, \"explanation\":explanation})\n",
    "dataframe.to_csv(\"ChatGPT-CEQ-eval.csv\")"
   ]
  },
  {
   "cell_type": "code",
   "execution_count": 3,
   "id": "4eedee42",
   "metadata": {},
   "outputs": [],
   "source": [
    "explanation = []\n",
    "with open(\"rag.json\", \"r\") as f:\n",
    "    data = json.load(f)\n",
    "    \n",
    "for i in range(2132):\n",
    "    explanation.append(data[\"dev-\"+str(i)])"
   ]
  },
  {
   "cell_type": "code",
   "execution_count": 4,
   "id": "fae8a906",
   "metadata": {},
   "outputs": [],
   "source": [
    "dataframe = pd.DataFrame({\"cause\": cause, \"effect\":effect, \"explanation\":explanation})\n",
    "dataframe.to_csv(\"RAG-CEQ-eval.csv\")"
   ]
  }
 ],
 "metadata": {
  "kernelspec": {
   "display_name": "Python 3 (ipykernel)",
   "language": "python",
   "name": "python3"
  },
  "language_info": {
   "codemirror_mode": {
    "name": "ipython",
    "version": 3
   },
   "file_extension": ".py",
   "mimetype": "text/x-python",
   "name": "python",
   "nbconvert_exporter": "python",
   "pygments_lexer": "ipython3",
   "version": "3.10.6"
  }
 },
 "nbformat": 4,
 "nbformat_minor": 5
}
