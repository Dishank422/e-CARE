{
 "cells": [
  {
   "cell_type": "code",
   "execution_count": 1,
   "id": "a145a9a4",
   "metadata": {},
   "outputs": [],
   "source": [
    "import pandas\n",
    "data = pandas.read_csv(\"GenericsKB-Best.tsv\", sep='\\t')"
   ]
  },
  {
   "cell_type": "code",
   "execution_count": 31,
   "id": "b83edbab",
   "metadata": {},
   "outputs": [],
   "source": [
    "new_data = data[\"GENERIC SENTENCE\"].str.find(\"Springs bring heavy rain.\")"
   ]
  },
  {
   "cell_type": "code",
   "execution_count": 32,
   "id": "3ad15ea2",
   "metadata": {},
   "outputs": [
    {
     "data": {
      "text/plain": [
       "871495    0\n",
       "Name: GENERIC SENTENCE, dtype: int64"
      ]
     },
     "execution_count": 32,
     "metadata": {},
     "output_type": "execute_result"
    }
   ],
   "source": [
    "new_data[new_data==0]"
   ]
  },
  {
   "cell_type": "code",
   "execution_count": 33,
   "id": "b7523b5c",
   "metadata": {},
   "outputs": [
    {
     "data": {
      "text/plain": [
       "SOURCE                                TupleKB\n",
       "TERM                                   spring\n",
       "QUANTIFIER                                NaN\n",
       "GENERIC SENTENCE    Springs bring heavy rain.\n",
       "SCORE                                     1.0\n",
       "Name: 871495, dtype: object"
      ]
     },
     "execution_count": 33,
     "metadata": {},
     "output_type": "execute_result"
    }
   ],
   "source": [
    "data.iloc[871495]"
   ]
  },
  {
   "cell_type": "code",
   "execution_count": 2,
   "id": "df8bb122",
   "metadata": {},
   "outputs": [
    {
     "data": {
      "text/html": [
       "<div>\n",
       "<style scoped>\n",
       "    .dataframe tbody tr th:only-of-type {\n",
       "        vertical-align: middle;\n",
       "    }\n",
       "\n",
       "    .dataframe tbody tr th {\n",
       "        vertical-align: top;\n",
       "    }\n",
       "\n",
       "    .dataframe thead th {\n",
       "        text-align: right;\n",
       "    }\n",
       "</style>\n",
       "<table border=\"1\" class=\"dataframe\">\n",
       "  <thead>\n",
       "    <tr style=\"text-align: right;\">\n",
       "      <th></th>\n",
       "      <th>SOURCE</th>\n",
       "      <th>TERM</th>\n",
       "      <th>QUANTIFIER</th>\n",
       "      <th>GENERIC SENTENCE</th>\n",
       "      <th>SCORE</th>\n",
       "    </tr>\n",
       "  </thead>\n",
       "  <tbody>\n",
       "    <tr>\n",
       "      <th>0</th>\n",
       "      <td>Waterloo</td>\n",
       "      <td>aa battery</td>\n",
       "      <td>NaN</td>\n",
       "      <td>AA batteries maintain the settings if the powe...</td>\n",
       "      <td>0.350923</td>\n",
       "    </tr>\n",
       "    <tr>\n",
       "      <th>1</th>\n",
       "      <td>ARC</td>\n",
       "      <td>aardvark female</td>\n",
       "      <td>NaN</td>\n",
       "      <td>Aardvark females appear to come into season on...</td>\n",
       "      <td>0.570737</td>\n",
       "    </tr>\n",
       "    <tr>\n",
       "      <th>2</th>\n",
       "      <td>ARC</td>\n",
       "      <td>aardvark hole</td>\n",
       "      <td>NaN</td>\n",
       "      <td>Aardvark holes are used by small buck as a res...</td>\n",
       "      <td>0.574909</td>\n",
       "    </tr>\n",
       "    <tr>\n",
       "      <th>3</th>\n",
       "      <td>Waterloo</td>\n",
       "      <td>aardvark skin</td>\n",
       "      <td>NaN</td>\n",
       "      <td>Aardvark skin is thick and sparsely haired.</td>\n",
       "      <td>0.444273</td>\n",
       "    </tr>\n",
       "    <tr>\n",
       "      <th>4</th>\n",
       "      <td>WordNet3.0</td>\n",
       "      <td>aardvark</td>\n",
       "      <td>NaN</td>\n",
       "      <td>Aardvark isa mammal.</td>\n",
       "      <td>1.000000</td>\n",
       "    </tr>\n",
       "  </tbody>\n",
       "</table>\n",
       "</div>"
      ],
      "text/plain": [
       "       SOURCE             TERM QUANTIFIER  \\\n",
       "0    Waterloo       aa battery        NaN   \n",
       "1         ARC  aardvark female        NaN   \n",
       "2         ARC    aardvark hole        NaN   \n",
       "3    Waterloo    aardvark skin        NaN   \n",
       "4  WordNet3.0         aardvark        NaN   \n",
       "\n",
       "                                    GENERIC SENTENCE     SCORE  \n",
       "0  AA batteries maintain the settings if the powe...  0.350923  \n",
       "1  Aardvark females appear to come into season on...  0.570737  \n",
       "2  Aardvark holes are used by small buck as a res...  0.574909  \n",
       "3        Aardvark skin is thick and sparsely haired.  0.444273  \n",
       "4                               Aardvark isa mammal.  1.000000  "
      ]
     },
     "execution_count": 2,
     "metadata": {},
     "output_type": "execute_result"
    }
   ],
   "source": [
    "data.head()"
   ]
  },
  {
   "cell_type": "code",
   "execution_count": 3,
   "id": "da9203e7",
   "metadata": {},
   "outputs": [],
   "source": [
    "new_data = pandas.DataFrame({\"title\":list(range(len(data))), \"text\":data[\"GENERIC SENTENCE\"]})"
   ]
  },
  {
   "cell_type": "code",
   "execution_count": 4,
   "id": "31deed9b",
   "metadata": {},
   "outputs": [],
   "source": [
    "new_data.to_csv(\"genericsKB_for_encoding\", index=False, sep=\"\\t\")"
   ]
  }
 ],
 "metadata": {
  "kernelspec": {
   "display_name": "Python 3 (ipykernel)",
   "language": "python",
   "name": "python3"
  },
  "language_info": {
   "codemirror_mode": {
    "name": "ipython",
    "version": 3
   },
   "file_extension": ".py",
   "mimetype": "text/x-python",
   "name": "python",
   "nbconvert_exporter": "python",
   "pygments_lexer": "ipython3",
   "version": "3.10.6"
  }
 },
 "nbformat": 4,
 "nbformat_minor": 5
}
